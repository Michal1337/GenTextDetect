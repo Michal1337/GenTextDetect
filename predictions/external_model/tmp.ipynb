{
 "cells": [
  {
   "cell_type": "code",
   "execution_count": 2,
   "id": "cdab34a9",
   "metadata": {},
   "outputs": [],
   "source": [
    "import os\n",
    "import pandas as pd\n",
    "from sklearn.metrics import (accuracy_score, balanced_accuracy_score, f1_score,\n",
    "                             precision_score, recall_score, roc_auc_score)"
   ]
  },
  {
   "cell_type": "code",
   "execution_count": 3,
   "id": "b98cd17b",
   "metadata": {},
   "outputs": [
    {
     "data": {
      "text/plain": [
       "['preds_master-testset-hard-0.csv',\n",
       " 'preds_master-testset-hard-2.csv',\n",
       " 'preds_master-testset-hard-3.csv',\n",
       " 'preds_master-testset-hard-4.csv',\n",
       " 'preds_master-testset.csv',\n",
       " 'preds_master-testset-hard-5.csv',\n",
       " 'preds_master-testset-hard-1.csv']"
      ]
     },
     "execution_count": 3,
     "metadata": {},
     "output_type": "execute_result"
    }
   ],
   "source": [
    "files = [f for f in os.listdir('.') if f.endswith('.csv')]\n",
    "files"
   ]
  },
  {
   "cell_type": "code",
   "execution_count": 11,
   "id": "59c6d100",
   "metadata": {},
   "outputs": [
    {
     "name": "stderr",
     "output_type": "stream",
     "text": [
      "/home/majkel/miniconda3/lib/python3.12/site-packages/sklearn/metrics/_classification.py:2466: UserWarning: y_pred contains classes not in y_true\n",
      "  warnings.warn(\"y_pred contains classes not in y_true\")\n",
      "/home/majkel/miniconda3/lib/python3.12/site-packages/sklearn/metrics/_classification.py:2466: UserWarning: y_pred contains classes not in y_true\n",
      "  warnings.warn(\"y_pred contains classes not in y_true\")\n",
      "/home/majkel/miniconda3/lib/python3.12/site-packages/sklearn/metrics/_classification.py:2466: UserWarning: y_pred contains classes not in y_true\n",
      "  warnings.warn(\"y_pred contains classes not in y_true\")\n",
      "/home/majkel/miniconda3/lib/python3.12/site-packages/sklearn/metrics/_classification.py:2466: UserWarning: y_pred contains classes not in y_true\n",
      "  warnings.warn(\"y_pred contains classes not in y_true\")\n"
     ]
    },
    {
     "name": "stdout",
     "output_type": "stream",
     "text": [
      "Results for preds_master-testset-hard-0.csv:\n",
      "Accuracy: 0.9643\n",
      "Balanced Accuracy: 0.9643\n",
      "F1 Score: 0.9818\n",
      "Precision: 1.0000\n",
      "Recall: 0.9643\n",
      "AUC: N/A\n",
      "----------------------------------------\n",
      "Results for preds_master-testset-hard-2.csv:\n",
      "Accuracy: 0.9936\n",
      "Balanced Accuracy: 0.9936\n",
      "F1 Score: 0.9968\n",
      "Precision: 1.0000\n",
      "Recall: 0.9936\n",
      "AUC: N/A\n",
      "----------------------------------------\n",
      "Results for preds_master-testset-hard-3.csv:\n",
      "Accuracy: 0.9957\n",
      "Balanced Accuracy: 0.9957\n",
      "F1 Score: 0.9978\n",
      "Precision: 1.0000\n",
      "Recall: 0.9957\n",
      "AUC: N/A\n",
      "----------------------------------------\n",
      "Results for preds_master-testset-hard-4.csv:\n",
      "Accuracy: 0.9959\n",
      "Balanced Accuracy: 0.9959\n",
      "F1 Score: 0.9979\n",
      "Precision: 1.0000\n",
      "Recall: 0.9959\n",
      "AUC: N/A\n",
      "----------------------------------------\n",
      "Results for preds_master-testset.csv:\n",
      "Accuracy: 0.8797\n",
      "Balanced Accuracy: 0.8722\n",
      "F1 Score: 0.8966\n",
      "Precision: 0.8396\n",
      "Recall: 0.9619\n",
      "AUC: 0.9738618413397311\n",
      "----------------------------------------\n",
      "Results for preds_master-testset-hard-5.csv:\n",
      "Accuracy: 0.9971\n",
      "Balanced Accuracy: 0.9971\n",
      "F1 Score: 0.9985\n",
      "Precision: 1.0000\n",
      "Recall: 0.9971\n",
      "AUC: N/A\n",
      "----------------------------------------\n",
      "Results for preds_master-testset-hard-1.csv:\n",
      "Accuracy: 0.9945\n",
      "Balanced Accuracy: 0.9945\n",
      "F1 Score: 0.9972\n",
      "Precision: 1.0000\n",
      "Recall: 0.9945\n",
      "AUC: N/A\n",
      "----------------------------------------\n"
     ]
    },
    {
     "name": "stderr",
     "output_type": "stream",
     "text": [
      "/home/majkel/miniconda3/lib/python3.12/site-packages/sklearn/metrics/_classification.py:2466: UserWarning: y_pred contains classes not in y_true\n",
      "  warnings.warn(\"y_pred contains classes not in y_true\")\n",
      "/home/majkel/miniconda3/lib/python3.12/site-packages/sklearn/metrics/_classification.py:2466: UserWarning: y_pred contains classes not in y_true\n",
      "  warnings.warn(\"y_pred contains classes not in y_true\")\n"
     ]
    }
   ],
   "source": [
    "for file in files:\n",
    "    df = pd.read_csv(file)\n",
    "    preds = df['preds']\n",
    "    labels = df['label']\n",
    "\n",
    "    preds_bin = preds.apply(lambda x: 1 if x > 0.5 else 0)\n",
    "    preds_bin = preds_bin.astype(int)\n",
    "\n",
    "    acc = accuracy_score(labels, preds_bin)\n",
    "    bal_acc = balanced_accuracy_score(labels, preds_bin)\n",
    "    f1 = f1_score(labels, preds_bin)\n",
    "    prec = precision_score(labels, preds_bin)\n",
    "    rec = recall_score(labels, preds_bin)\n",
    "    try:\n",
    "        auc = roc_auc_score(labels, preds)\n",
    "    except ValueError:\n",
    "        auc = 'N/A'  # AUC cannot be computed if labels are not binary or if there's only one class\n",
    "\n",
    "    print(f\"Results for {file}:\")\n",
    "    print(f\"Accuracy: {acc:.4f}\")\n",
    "    print(f\"Balanced Accuracy: {bal_acc:.4f}\")\n",
    "    print(f\"F1 Score: {f1:.4f}\")\n",
    "    print(f\"Precision: {prec:.4f}\")\n",
    "    print(f\"Recall: {rec:.4f}\")\n",
    "    print(f\"AUC: {auc}\")\n",
    "    print(\"-\" * 40)\n"
   ]
  },
  {
   "cell_type": "code",
   "execution_count": null,
   "id": "7b7ca0b9",
   "metadata": {},
   "outputs": [],
   "source": []
  },
  {
   "cell_type": "code",
   "execution_count": null,
   "id": "deba7f95",
   "metadata": {},
   "outputs": [],
   "source": []
  },
  {
   "cell_type": "code",
   "execution_count": null,
   "id": "add14d62",
   "metadata": {},
   "outputs": [],
   "source": []
  },
  {
   "cell_type": "code",
   "execution_count": null,
   "id": "0c779cc3",
   "metadata": {},
   "outputs": [],
   "source": []
  }
 ],
 "metadata": {
  "kernelspec": {
   "display_name": "base",
   "language": "python",
   "name": "python3"
  },
  "language_info": {
   "codemirror_mode": {
    "name": "ipython",
    "version": 3
   },
   "file_extension": ".py",
   "mimetype": "text/x-python",
   "name": "python",
   "nbconvert_exporter": "python",
   "pygments_lexer": "ipython3",
   "version": "3.12.3"
  }
 },
 "nbformat": 4,
 "nbformat_minor": 5
}
