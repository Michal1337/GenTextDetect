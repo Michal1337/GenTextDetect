{
 "cells": [
  {
   "cell_type": "code",
   "execution_count": 1,
   "metadata": {},
   "outputs": [],
   "source": [
    "import os\n",
    "import tiktoken\n",
    "import pandas as pd"
   ]
  },
  {
   "cell_type": "code",
   "execution_count": 2,
   "metadata": {},
   "outputs": [],
   "source": [
    "def get_csv_paths(folder_path, recursive=False):\n",
    "    if recursive:\n",
    "        # Walk through all subdirectories\n",
    "        file_paths = [os.path.join(root, file) \n",
    "                      for root, _, files in os.walk(folder_path) \n",
    "                      for file in files if file.endswith('.csv')]\n",
    "    else:\n",
    "        # Get files in the root folder only\n",
    "        file_paths = [os.path.join(folder_path, file) \n",
    "                      for file in os.listdir(folder_path) \n",
    "                      if file.endswith('.csv')]\n",
    "    \n",
    "    return file_paths"
   ]
  },
  {
   "cell_type": "code",
   "execution_count": 3,
   "metadata": {},
   "outputs": [],
   "source": [
    "DATA_HUMAN_PATH = \"../data/data_human/\"\n",
    "DATA_AI_PATH = \"../data/data_ai/\""
   ]
  },
  {
   "cell_type": "code",
   "execution_count": 4,
   "metadata": {},
   "outputs": [],
   "source": [
    "paths = get_csv_paths(DATA_AI_PATH, recursive=True)"
   ]
  },
  {
   "cell_type": "code",
   "execution_count": 5,
   "metadata": {},
   "outputs": [],
   "source": [
    "enc = tiktoken.get_encoding(\"o200k_base\") #cl100k_base"
   ]
  },
  {
   "cell_type": "code",
   "execution_count": null,
   "metadata": {},
   "outputs": [],
   "source": [
    "def fix_text(text: str) -> str:\n",
    "    if isinstance(eval(text), list) and len(eval(text)) == 1:\n",
    "        text = eval(text)[0]\n",
    "        return text\n",
    "    else:\n",
    "        return text "
   ]
  },
  {
   "cell_type": "code",
   "execution_count": null,
   "metadata": {},
   "outputs": [
    {
     "name": "stdout",
     "output_type": "stream",
     "text": [
      "Processing ../data/data_ai/blogs/blogs_Phi-4-mini-instruct.csv...\n",
      "Number of texts: 28836\n",
      "Processing ../data/data_ai/blogs/blogs_Meta-Llama-3.3-70B-Instruct-AWQ-INT4.csv...\n",
      "Number of texts: 28836\n",
      "Processing ../data/data_ai/blogs/blogs_Phi-3.5-mini-instruct.csv...\n",
      "Number of texts: 28836\n",
      "6 Errors in ../data/data_ai/blogs/blogs_Phi-3.5-mini-instruct.csv:\n",
      "Index: 1864, Text: nan\n",
      "Index: 1886, Text: nan\n",
      "Index: 1888, Text: nan\n",
      "Index: 1894, Text: nan\n",
      "Index: 19211, Text: nan\n",
      "Index: 19224, Text: nan\n",
      "Processing ../data/data_ai/blogs/blogs_phi-4.csv...\n",
      "Number of texts: 28836\n",
      "Processing ../data/data_ai/blogs/blogs_Qwen2.5-7B-Instruct.csv...\n",
      "Number of texts: 28836\n",
      "Processing ../data/data_ai/blogs/blogs_Mistral-Nemo-Instruct-2407.csv...\n",
      "Number of texts: 28836\n",
      "Processing ../data/data_ai/nyt_articles/nyt-articles_Qwen2-72B-Instruct-AWQ.csv...\n",
      "Number of texts: 15813\n",
      "Processing ../data/data_ai/nyt_articles/nyt-articles_phi-4.csv...\n",
      "Number of texts: 15813\n",
      "Processing ../data/data_ai/nyt_articles/nyt-articles_Llama-3.1-8B-Instruct.csv...\n",
      "Number of texts: 15813\n",
      "Processing ../data/data_ai/nyt_articles/nyt-articles_Qwen2-7B-Instruct.csv...\n",
      "Number of texts: 15813\n",
      "Processing ../data/data_ai/nyt_articles/nyt-articles_Qwen2.5-72B-Instruct-AWQ.csv...\n",
      "Number of texts: 15813\n",
      "Processing ../data/data_ai/nyt_articles/nyt-articles_Phi-3-mini-128k-instruct.csv...\n",
      "Number of texts: 15813\n",
      "Processing ../data/data_ai/nyt_articles/nyt-articles_Qwen2.5-3B-Instruct.csv...\n",
      "Number of texts: 15813\n",
      "Processing ../data/data_ai/nyt_articles/nyt-articles_Phi-3.5-mini-instruct.csv...\n",
      "Number of texts: 15813\n",
      "Processing ../data/data_ai/nyt_articles/nyt-articles_Falcon3-3B-Instruct.csv...\n",
      "Number of texts: 15813\n",
      "Processing ../data/data_ai/nyt_articles/nyt-articles_Phi-3-small-128k-instruct.csv...\n",
      "Number of texts: 15813\n",
      "Processing ../data/data_ai/nyt_articles/nyt-articles_Meta-Llama-3.3-70B-Instruct-AWQ-INT4.csv...\n",
      "Number of texts: 15813\n",
      "Processing ../data/data_ai/nyt_articles/nyt-articles_Mistral-Nemo-Instruct-2407.csv...\n",
      "Number of texts: 15813\n",
      "Processing ../data/data_ai/nyt_articles/nyt-articles_Llama-3.2-3B-Instruct.csv...\n",
      "Number of texts: 15813\n",
      "Processing ../data/data_ai/nyt_articles/nyt-articles_Ministral-8B-Instruct-2410.csv...\n",
      "Number of texts: 15813\n",
      "Processing ../data/data_ai/nyt_articles/nyt-articles_Falcon3-7B-Instruct.csv...\n",
      "Number of texts: 15813\n",
      "Processing ../data/data_ai/nyt_articles/nyt-articles_Meta-Llama-3.1-70B-Instruct-AWQ-INT4.csv...\n",
      "Number of texts: 15813\n",
      "1 Errors in ../data/data_ai/nyt_articles/nyt-articles_Meta-Llama-3.1-70B-Instruct-AWQ-INT4.csv:\n",
      "Index: 12575, Text: nan\n",
      "Processing ../data/data_ai/nyt_articles/nyt-articles_Qwen2.5-14B-Instruct.csv...\n",
      "Number of texts: 15813\n",
      "Processing ../data/data_ai/nyt_articles/nyt-articles_Qwen2.5-7B-Instruct.csv...\n",
      "Number of texts: 15813\n",
      "Processing ../data/data_ai/nyt_articles/nyt-articles_Phi-3-medium-128k-instruct.csv...\n",
      "Number of texts: 15813\n",
      "Processing ../data/data_ai/nyt_articles/nyt-articles_Phi-4-mini-instruct.csv...\n",
      "Number of texts: 15813\n",
      "Processing ../data/data_ai/essays/essays_Phi-3-mini-128k-instruct.csv...\n",
      "Number of texts: 2638\n",
      "Processing ../data/data_ai/essays/essays_Ministral-8B-Instruct-2410.csv...\n",
      "Number of texts: 2638\n",
      "Processing ../data/data_ai/essays/essays_Qwen2-72B-Instruct-AWQ.csv...\n",
      "Number of texts: 2638\n",
      "Processing ../data/data_ai/essays/essays_Meta-Llama-3.1-70B-Instruct-AWQ-INT4.csv...\n",
      "Number of texts: 2638\n",
      "Processing ../data/data_ai/essays/essays_Mistral-Nemo-Instruct-2407.csv...\n",
      "Number of texts: 2638\n",
      "Processing ../data/data_ai/essays/essays_Falcon3-3B-Instruct.csv...\n",
      "Number of texts: 2638\n",
      "Processing ../data/data_ai/essays/essays_Phi-3-medium-128k-instruct.csv...\n",
      "Number of texts: 2638\n",
      "Processing ../data/data_ai/essays/essays_phi-4.csv...\n",
      "Number of texts: 2638\n",
      "Processing ../data/data_ai/essays/essays_Qwen2.5-72B-Instruct-AWQ.csv...\n",
      "Number of texts: 2638\n",
      "Processing ../data/data_ai/essays/essays_Llama-3.1-8B-Instruct.csv...\n",
      "Number of texts: 2638\n",
      "Processing ../data/data_ai/essays/essays_Meta-Llama-3.3-70B-Instruct-AWQ-INT4.csv...\n",
      "Number of texts: 2638\n",
      "Processing ../data/data_ai/essays/essays_Qwen2-7B-Instruct.csv...\n",
      "Number of texts: 2638\n",
      "Processing ../data/data_ai/essays/essays_Phi-4-mini-instruct.csv...\n",
      "Number of texts: 2638\n",
      "Processing ../data/data_ai/essays/essays_Falcon3-7B-Instruct.csv...\n",
      "Number of texts: 2638\n",
      "Processing ../data/data_ai/essays/essays_Phi-3-small-128k-instruct.csv...\n",
      "Number of texts: 2638\n",
      "Processing ../data/data_ai/essays/essays_Llama-3.2-3B-Instruct.csv...\n",
      "Number of texts: 2638\n",
      "Processing ../data/data_ai/essays/essays_Qwen2.5-3B-Instruct.csv...\n",
      "Number of texts: 2638\n",
      "Processing ../data/data_ai/essays/essays_Qwen2.5-7B-Instruct.csv...\n",
      "Number of texts: 2638\n",
      "Processing ../data/data_ai/essays/essays_Qwen2.5-14B-Instruct.csv...\n",
      "Number of texts: 2638\n",
      "Processing ../data/data_ai/essays/essays_Phi-3.5-mini-instruct.csv...\n",
      "Number of texts: 2638\n"
     ]
    }
   ],
   "source": [
    "for path in paths:\n",
    "    print(f\"Processing {path}...\")\n",
    "    df = pd.read_csv(path)\n",
    "    texts = df['text'].tolist()\n",
    "    print(f\"Number of texts: {len(texts)}\")\n",
    "    err = []\n",
    "    for i, text in enumerate(texts):\n",
    "        try:\n",
    "            enc.encode(text)\n",
    "        except:\n",
    "            err.append([i, text])\n",
    "\n",
    "    if len(err) > 0:\n",
    "        print(f\"{len(err)} Errors in {path}:\")\n",
    "        for i, text in err:\n",
    "            print(f\"Index: {i}, Text: {text}\")\n",
    "\n",
    "        # get user input\n",
    "        user_input = input(f\"Do you want to remove the errors in {path}? (y/n): \")\n",
    "        if user_input.lower() == \"y\":\n",
    "            df.drop(index=[i for i, _ in err], inplace=True)\n",
    "            df['text'] = df['text'].apply(fix_text)          \n",
    "            df.to_csv(path, index=False)\n",
    "        else:\n",
    "            print(f\"Errors in {path} were not removed.\")"
   ]
  },
  {
   "cell_type": "code",
   "execution_count": null,
   "metadata": {},
   "outputs": [],
   "source": []
  },
  {
   "cell_type": "code",
   "execution_count": null,
   "metadata": {},
   "outputs": [],
   "source": []
  }
 ],
 "metadata": {
  "kernelspec": {
   "display_name": "base",
   "language": "python",
   "name": "python3"
  },
  "language_info": {
   "codemirror_mode": {
    "name": "ipython",
    "version": 3
   },
   "file_extension": ".py",
   "mimetype": "text/x-python",
   "name": "python",
   "nbconvert_exporter": "python",
   "pygments_lexer": "ipython3",
   "version": "3.12.3"
  }
 },
 "nbformat": 4,
 "nbformat_minor": 2
}
