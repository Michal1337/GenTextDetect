{
 "cells": [
  {
   "cell_type": "code",
   "execution_count": 1,
   "metadata": {},
   "outputs": [],
   "source": [
    "import os\n",
    "import tiktoken\n",
    "import pandas as pd\n",
    "from tqdm import tqdm"
   ]
  },
  {
   "cell_type": "code",
   "execution_count": 2,
   "metadata": {},
   "outputs": [],
   "source": [
    "def get_csv_paths(folder_path, recursive=False):\n",
    "    if recursive:\n",
    "        # Walk through all subdirectories\n",
    "        file_paths = [os.path.join(root, file) \n",
    "                      for root, _, files in os.walk(folder_path) \n",
    "                      for file in files if file.endswith('.csv')]\n",
    "    else:\n",
    "        # Get files in the root folder only\n",
    "        file_paths = [os.path.join(folder_path, file) \n",
    "                      for file in os.listdir(folder_path) \n",
    "                      if file.endswith('.csv')]\n",
    "    \n",
    "    return file_paths"
   ]
  },
  {
   "cell_type": "code",
   "execution_count": 3,
   "metadata": {},
   "outputs": [],
   "source": [
    "DATA_HUMAN_PATH = \"../data/data_human/\"\n",
    "DATA_AI_PATH = \"../data/data_ai/reddit/\""
   ]
  },
  {
   "cell_type": "code",
   "execution_count": 4,
   "metadata": {},
   "outputs": [],
   "source": [
    "paths = get_csv_paths(DATA_AI_PATH, recursive=True)"
   ]
  },
  {
   "cell_type": "code",
   "execution_count": 5,
   "metadata": {},
   "outputs": [],
   "source": [
    "enc = tiktoken.get_encoding(\"o200k_base\") #cl100k_base"
   ]
  },
  {
   "cell_type": "code",
   "execution_count": null,
   "metadata": {},
   "outputs": [],
   "source": [
    "def fix_text(s: str) -> str:\n",
    "    \"\"\"\n",
    "    Remove a leading '\", [' or '[' and a trailing '\", ]' or ']' from the given string.\n",
    "    \"\"\"\n",
    "    # Remove leading patterns\n",
    "    for prefix in ('\"', '[', '[\"'):\n",
    "        if s.startswith(prefix):\n",
    "            s = s[len(prefix):]\n",
    "            break\n",
    "\n",
    "    # Remove trailing patterns\n",
    "    for suffix in ('\"', ']', '\"]'):\n",
    "        if s.endswith(suffix):\n",
    "            s = s[:-len(suffix)]\n",
    "            break\n",
    "\n",
    "    return s"
   ]
  },
  {
   "cell_type": "code",
   "execution_count": null,
   "metadata": {},
   "outputs": [
    {
     "name": "stdout",
     "output_type": "stream",
     "text": [
      "Processing ../data/data_ai/reddit/reddit_Qwen2.5-72B-Instruct-AWQ.csv...\n",
      "Number of texts: 131096\n"
     ]
    },
    {
     "name": "stderr",
     "output_type": "stream",
     "text": [
      "100%|██████████| 131096/131096 [00:44<00:00, 2965.84it/s] \n"
     ]
    },
    {
     "name": "stdout",
     "output_type": "stream",
     "text": [
      "Processing ../data/data_ai/reddit/reddit_Qwen2.5-3B-Instruct.csv...\n",
      "Number of texts: 131096\n"
     ]
    },
    {
     "name": "stderr",
     "output_type": "stream",
     "text": [
      "100%|██████████| 131096/131096 [00:31<00:00, 4189.43it/s]\n"
     ]
    },
    {
     "name": "stdout",
     "output_type": "stream",
     "text": [
      "Processing ../data/data_ai/reddit/reddit_Phi-3-mini-128k-instruct.csv...\n",
      "Number of texts: 131096\n"
     ]
    },
    {
     "name": "stderr",
     "output_type": "stream",
     "text": [
      "100%|██████████| 131096/131096 [01:38<00:00, 1330.35it/s]\n"
     ]
    },
    {
     "name": "stdout",
     "output_type": "stream",
     "text": [
      "Processing ../data/data_ai/reddit/reddit_Falcon3-3B-Instruct.csv...\n",
      "Number of texts: 131096\n"
     ]
    },
    {
     "name": "stderr",
     "output_type": "stream",
     "text": [
      "100%|██████████| 131096/131096 [00:57<00:00, 2271.24it/s]\n"
     ]
    },
    {
     "name": "stdout",
     "output_type": "stream",
     "text": [
      "Processing ../data/data_ai/reddit/reddit_Phi-3-small-128k-instruct.csv...\n",
      "Number of texts: 131096\n"
     ]
    },
    {
     "name": "stderr",
     "output_type": "stream",
     "text": [
      " 21%|██        | 27642/131096 [2:13:37<10:55:01,  2.63it/s]"
     ]
    }
   ],
   "source": [
    "for path in paths:\n",
    "    print(f\"Processing {path}...\")\n",
    "    df = pd.read_csv(path)\n",
    "    texts = df['text'].tolist()\n",
    "    print(f\"Number of texts: {len(texts)}\")\n",
    "    err = []\n",
    "    for i, text in enumerate(tqdm(texts)):\n",
    "        try:\n",
    "            enc.encode(text)\n",
    "        except:\n",
    "            err.append([i, text])\n",
    "\n",
    "    if len(err) > 0:\n",
    "        print(f\"{len(err)} Errors in {path}:\")\n",
    "        for i, text in err:\n",
    "            print(f\"Index: {i}, Text: {text}\")\n",
    "\n",
    "        # get user input\n",
    "        user_input = input(f\"Do you want to remove the errors in {path}? (y/n): \")\n",
    "        if user_input.lower() == \"y\":\n",
    "            df.drop(index=[i for i, _ in err], inplace=True)\n",
    "        else:\n",
    "            print(f\"Errors in {path} were not removed.\")\n",
    "    \n",
    "    df['text'] = df['text'].apply(fix_text)          \n",
    "    df.to_csv(path, index=False)"
   ]
  },
  {
   "cell_type": "code",
   "execution_count": null,
   "metadata": {},
   "outputs": [],
   "source": []
  },
  {
   "cell_type": "code",
   "execution_count": null,
   "metadata": {},
   "outputs": [],
   "source": []
  },
  {
   "cell_type": "code",
   "execution_count": null,
   "metadata": {},
   "outputs": [],
   "source": []
  },
  {
   "cell_type": "code",
   "execution_count": null,
   "metadata": {},
   "outputs": [],
   "source": []
  },
  {
   "cell_type": "code",
   "execution_count": null,
   "metadata": {},
   "outputs": [],
   "source": []
  },
  {
   "cell_type": "code",
   "execution_count": null,
   "metadata": {},
   "outputs": [],
   "source": []
  },
  {
   "cell_type": "code",
   "execution_count": null,
   "metadata": {},
   "outputs": [],
   "source": []
  },
  {
   "cell_type": "code",
   "execution_count": null,
   "metadata": {},
   "outputs": [],
   "source": []
  }
 ],
 "metadata": {
  "kernelspec": {
   "display_name": "base",
   "language": "python",
   "name": "python3"
  },
  "language_info": {
   "codemirror_mode": {
    "name": "ipython",
    "version": 3
   },
   "file_extension": ".py",
   "mimetype": "text/x-python",
   "name": "python",
   "nbconvert_exporter": "python",
   "pygments_lexer": "ipython3",
   "version": "3.12.3"
  }
 },
 "nbformat": 4,
 "nbformat_minor": 2
}
