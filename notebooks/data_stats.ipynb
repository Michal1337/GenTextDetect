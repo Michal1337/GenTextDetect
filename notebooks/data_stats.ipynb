{
 "cells": [
  {
   "cell_type": "code",
   "execution_count": 1,
   "metadata": {},
   "outputs": [],
   "source": [
    "import os\n",
    "import csv\n",
    "import tiktoken\n",
    "import pandas as pd\n",
    "from tqdm import tqdm\n",
    "from nltk.tokenize import word_tokenize, sent_tokenize"
   ]
  },
  {
   "cell_type": "code",
   "execution_count": 2,
   "metadata": {},
   "outputs": [],
   "source": [
    "enc = tiktoken.get_encoding(\"o200k_base\") #cl100k_base"
   ]
  },
  {
   "cell_type": "code",
   "execution_count": 3,
   "metadata": {},
   "outputs": [],
   "source": [
    "def get_csv_paths(folder_path, recursive=False):\n",
    "    if recursive:\n",
    "        # Walk through all subdirectories\n",
    "        file_paths = [os.path.join(root, file) \n",
    "                      for root, _, files in os.walk(folder_path) \n",
    "                      for file in files if file.endswith('.csv')]\n",
    "    else:\n",
    "        # Get files in the root folder only\n",
    "        file_paths = [os.path.join(folder_path, file) \n",
    "                      for file in os.listdir(folder_path) \n",
    "                      if file.endswith('.csv')]\n",
    "    \n",
    "    return file_paths"
   ]
  },
  {
   "cell_type": "code",
   "execution_count": null,
   "metadata": {},
   "outputs": [],
   "source": [
    "def calc_stats(texts):\n",
    "    results = []\n",
    "    total_sentences, total_words, total_chars, total_tokens = 0, 0, 0, 0\n",
    "    total_samples = len(texts)\n",
    "\n",
    "    for text in tqdm(texts):\n",
    "        text_chars = 0\n",
    "        text_tokens = enc.encode(text)\n",
    "        sentences = sent_tokenize(text)\n",
    "        for sentence in sentences:\n",
    "            words = word_tokenize(sentence)\n",
    "            words_only = [token for token in words if token.isalpha()]\n",
    "            text_chars += sum([len(word) for word in words])\n",
    "\n",
    "        total_sentences += len(sentences)\n",
    "        total_words += len(words_only)\n",
    "        total_chars += text_chars\n",
    "        total_tokens += len(text_tokens)\n",
    "\n",
    "        results.append([len(sentences), len(words), text_chars, len(text_tokens)])\n",
    "    return results, total_samples, total_sentences, total_words, total_chars, total_tokens"
   ]
  },
  {
   "cell_type": "code",
   "execution_count": 5,
   "metadata": {},
   "outputs": [],
   "source": [
    "DATA_HUMAN_PATH = \"../data/data_human/\"\n",
    "DATA_AI_PATH = \"../data/data_ai/blogs/\"\n",
    "STATS_PATH = \"../data/stats/\"\n",
    "MASTER_STATS_PATH = \"../data/stats/data_stats_master.csv\""
   ]
  },
  {
   "cell_type": "code",
   "execution_count": 6,
   "metadata": {},
   "outputs": [
    {
     "data": {
      "text/plain": [
       "['../data/data_ai/blogs/blogs_Phi-3-small-128k-instruct.csv',\n",
       " '../data/data_ai/blogs/blogs_Llama-3.2-3B-Instruct.csv',\n",
       " '../data/data_ai/blogs/blogs_Qwen2.5-14B-Instruct.csv',\n",
       " '../data/data_ai/blogs/blogs_Ministral-8B-Instruct-2410.csv',\n",
       " '../data/data_ai/blogs/blogs_Phi-3-medium-128k-instruct.csv',\n",
       " '../data/data_ai/blogs/blogs_Qwen2.5-3B-Instruct.csv',\n",
       " '../data/data_ai/blogs/blogs_Meta-Llama-3.1-70B-Instruct-AWQ-INT4.csv',\n",
       " '../data/data_ai/blogs/blogs_Falcon3-3B-Instruct.csv',\n",
       " '../data/data_ai/blogs/blogs_Phi-3-mini-128k-instruct.csv',\n",
       " '../data/data_ai/blogs/blogs_Falcon3-7B-Instruct.csv',\n",
       " '../data/data_ai/blogs/blogs_Qwen2-7B-Instruct.csv',\n",
       " '../data/data_ai/blogs/blogs_Qwen2-72B-Instruct-AWQ.csv',\n",
       " '../data/data_ai/blogs/blogs_Qwen2.5-72B-Instruct-AWQ.csv',\n",
       " '../data/data_ai/blogs/blogs_Llama-3.1-8B-Instruct.csv',\n",
       " '../data/data_ai/blogs/blogs_Meta-Llama-3.3-70B-Instruct-AWQ-INT4.csv',\n",
       " '../data/data_ai/blogs/blogs_Phi-3.5-mini-instruct.csv',\n",
       " '../data/data_ai/blogs/blogs_phi-4.csv',\n",
       " '../data/data_ai/blogs/blogs_Qwen2.5-7B-Instruct.csv',\n",
       " '../data/data_ai/blogs/blogs_Mistral-Nemo-Instruct-2407.csv']"
      ]
     },
     "execution_count": 6,
     "metadata": {},
     "output_type": "execute_result"
    }
   ],
   "source": [
    "paths = get_csv_paths(DATA_AI_PATH, recursive=True)\n",
    "paths"
   ]
  },
  {
   "cell_type": "code",
   "execution_count": null,
   "metadata": {},
   "outputs": [],
   "source": []
  },
  {
   "cell_type": "code",
   "execution_count": 7,
   "metadata": {},
   "outputs": [
    {
     "name": "stdout",
     "output_type": "stream",
     "text": [
      "../data/data_ai/blogs/blogs_Phi-3-small-128k-instruct.csv\n"
     ]
    },
    {
     "name": "stderr",
     "output_type": "stream",
     "text": [
      "100%|██████████| 28836/28836 [02:11<00:00, 219.48it/s]\n"
     ]
    },
    {
     "name": "stdout",
     "output_type": "stream",
     "text": [
      "../data/data_ai/blogs/blogs_Llama-3.2-3B-Instruct.csv\n"
     ]
    },
    {
     "name": "stderr",
     "output_type": "stream",
     "text": [
      "100%|██████████| 28836/28836 [01:03<00:00, 455.77it/s]\n"
     ]
    },
    {
     "name": "stdout",
     "output_type": "stream",
     "text": [
      "../data/data_ai/blogs/blogs_Qwen2.5-14B-Instruct.csv\n"
     ]
    },
    {
     "name": "stderr",
     "output_type": "stream",
     "text": [
      "100%|██████████| 28836/28836 [00:40<00:00, 705.73it/s]\n"
     ]
    },
    {
     "name": "stdout",
     "output_type": "stream",
     "text": [
      "../data/data_ai/blogs/blogs_Ministral-8B-Instruct-2410.csv\n"
     ]
    },
    {
     "name": "stderr",
     "output_type": "stream",
     "text": [
      "100%|██████████| 28836/28836 [01:17<00:00, 371.80it/s]\n"
     ]
    },
    {
     "name": "stdout",
     "output_type": "stream",
     "text": [
      "../data/data_ai/blogs/blogs_Phi-3-medium-128k-instruct.csv\n"
     ]
    },
    {
     "name": "stderr",
     "output_type": "stream",
     "text": [
      "100%|██████████| 19300/19300 [01:26<00:00, 222.38it/s]\n"
     ]
    },
    {
     "name": "stdout",
     "output_type": "stream",
     "text": [
      "../data/data_ai/blogs/blogs_Qwen2.5-3B-Instruct.csv\n"
     ]
    },
    {
     "name": "stderr",
     "output_type": "stream",
     "text": [
      "100%|██████████| 28836/28836 [01:09<00:00, 414.88it/s]\n"
     ]
    },
    {
     "name": "stdout",
     "output_type": "stream",
     "text": [
      "../data/data_ai/blogs/blogs_Meta-Llama-3.1-70B-Instruct-AWQ-INT4.csv\n"
     ]
    },
    {
     "name": "stderr",
     "output_type": "stream",
     "text": [
      "100%|██████████| 28836/28836 [00:48<00:00, 594.24it/s]\n"
     ]
    },
    {
     "name": "stdout",
     "output_type": "stream",
     "text": [
      "../data/data_ai/blogs/blogs_Falcon3-3B-Instruct.csv\n"
     ]
    },
    {
     "name": "stderr",
     "output_type": "stream",
     "text": [
      "100%|██████████| 28836/28836 [01:35<00:00, 302.91it/s]\n"
     ]
    },
    {
     "name": "stdout",
     "output_type": "stream",
     "text": [
      "../data/data_ai/blogs/blogs_Phi-3-mini-128k-instruct.csv\n"
     ]
    },
    {
     "name": "stderr",
     "output_type": "stream",
     "text": [
      "100%|█████████▉| 19260/19300 [07:59<00:00, 40.14it/s] \n"
     ]
    },
    {
     "name": "stdout",
     "output_type": "stream",
     "text": [
      "../data/data_ai/blogs/blogs_Falcon3-7B-Instruct.csv\n"
     ]
    },
    {
     "name": "stderr",
     "output_type": "stream",
     "text": [
      "100%|██████████| 28836/28836 [01:25<00:00, 337.95it/s]\n"
     ]
    },
    {
     "name": "stdout",
     "output_type": "stream",
     "text": [
      "../data/data_ai/blogs/blogs_Qwen2-7B-Instruct.csv\n"
     ]
    },
    {
     "name": "stderr",
     "output_type": "stream",
     "text": [
      "100%|██████████| 28836/28836 [01:06<00:00, 435.65it/s]\n"
     ]
    },
    {
     "name": "stdout",
     "output_type": "stream",
     "text": [
      "../data/data_ai/blogs/blogs_Qwen2-72B-Instruct-AWQ.csv\n"
     ]
    },
    {
     "name": "stderr",
     "output_type": "stream",
     "text": [
      "100%|██████████| 28836/28836 [01:18<00:00, 365.22it/s]\n"
     ]
    },
    {
     "name": "stdout",
     "output_type": "stream",
     "text": [
      "../data/data_ai/blogs/blogs_Qwen2.5-72B-Instruct-AWQ.csv\n"
     ]
    },
    {
     "name": "stderr",
     "output_type": "stream",
     "text": [
      "100%|██████████| 28836/28836 [01:07<00:00, 424.81it/s] \n"
     ]
    },
    {
     "name": "stdout",
     "output_type": "stream",
     "text": [
      "../data/data_ai/blogs/blogs_Llama-3.1-8B-Instruct.csv\n"
     ]
    },
    {
     "name": "stderr",
     "output_type": "stream",
     "text": [
      "100%|██████████| 28836/28836 [01:04<00:00, 446.63it/s]\n"
     ]
    },
    {
     "name": "stdout",
     "output_type": "stream",
     "text": [
      "../data/data_ai/blogs/blogs_Meta-Llama-3.3-70B-Instruct-AWQ-INT4.csv\n"
     ]
    },
    {
     "name": "stderr",
     "output_type": "stream",
     "text": [
      "100%|██████████| 28836/28836 [00:49<00:00, 582.78it/s] \n"
     ]
    },
    {
     "name": "stdout",
     "output_type": "stream",
     "text": [
      "../data/data_ai/blogs/blogs_Phi-3.5-mini-instruct.csv\n"
     ]
    },
    {
     "name": "stderr",
     "output_type": "stream",
     "text": [
      "  8%|▊         | 1864/23232 [00:12<02:28, 144.31it/s]\n"
     ]
    },
    {
     "name": "stdout",
     "output_type": "stream",
     "text": [
      "../data/data_ai/blogs/blogs_phi-4.csv\n"
     ]
    },
    {
     "name": "stderr",
     "output_type": "stream",
     "text": [
      "100%|██████████| 28836/28836 [01:03<00:00, 457.44it/s]\n"
     ]
    },
    {
     "name": "stdout",
     "output_type": "stream",
     "text": [
      "../data/data_ai/blogs/blogs_Qwen2.5-7B-Instruct.csv\n"
     ]
    },
    {
     "name": "stderr",
     "output_type": "stream",
     "text": [
      "100%|██████████| 28836/28836 [00:50<00:00, 568.81it/s]\n"
     ]
    },
    {
     "name": "stdout",
     "output_type": "stream",
     "text": [
      "../data/data_ai/blogs/blogs_Mistral-Nemo-Instruct-2407.csv\n"
     ]
    },
    {
     "name": "stderr",
     "output_type": "stream",
     "text": [
      "100%|██████████| 28836/28836 [00:53<00:00, 538.61it/s]\n"
     ]
    }
   ],
   "source": [
    "# with open(MASTER_STATS_PATH, mode=\"w\", newline=\"\", encoding=\"utf-8\") as file:\n",
    "#     writer = csv.writer(file)\n",
    "#     writer.writerow([\"data\", \"model\", \"num_samples\", \"num_sentences\", \"num_words\", \"num_chars\", \"num_tokens\"])\n",
    "\n",
    "for path in paths:\n",
    "    print(path)\n",
    "    if path.split(\"_\")[-1] == \"human.csv\":\n",
    "        stats_path = os.path.join(STATS_PATH, path.split(\"/\")[-2], path.split(\"/\")[-1].replace(\".csv\", \"_stats.csv\"))\n",
    "    else:\n",
    "        stats_path = os.path.join(STATS_PATH, path.split(\"/\")[-3], path.split(\"/\")[-2], path.split(\"/\")[-1].replace(\".csv\", \"_stats.csv\"))\n",
    "\n",
    "    try:\n",
    "        df = pd.read_csv(path)\n",
    "        texts = df[\"text\"].values\n",
    "\n",
    "        results, num_samples, num_sentences, num_words, num_chars, num_tokens = calc_stats(texts)\n",
    "\n",
    "        results = pd.DataFrame(results, columns=[\"num_sentences\", \"num_words\", \"num_chars\", \"num_tokens\"])\n",
    "        results.to_csv(stats_path, index=False)\n",
    "\n",
    "        data_name, model = path.split(\"/\")[-1].split(\"_\")\n",
    "        model = model.removesuffix(\".csv\")\n",
    "\n",
    "        # with open(MASTER_STATS_PATH, mode=\"a\", newline=\"\", encoding=\"utf-8\") as file:\n",
    "        #     writer = csv.writer(file)\n",
    "        #     writer.writerow([data_name, model, num_samples, num_sentences, num_words, num_chars, num_tokens])\n",
    "    except:\n",
    "        pass"
   ]
  },
  {
   "cell_type": "code",
   "execution_count": 27,
   "metadata": {},
   "outputs": [],
   "source": [
    "df = pd.read_csv(\"../data/data_ai/nyt_articles/nyt-articles_Meta-Llama-3.1-70B-Instruct-AWQ-INT4.csv\")\n",
    "texts = df[\"text\"].values"
   ]
  },
  {
   "cell_type": "code",
   "execution_count": 28,
   "metadata": {},
   "outputs": [],
   "source": [
    "err = []\n",
    "for i, text in enumerate(texts):\n",
    "    try:\n",
    "        text_tokens = enc.encode(text)\n",
    "    except:\n",
    "        err.append(i)"
   ]
  },
  {
   "cell_type": "code",
   "execution_count": 29,
   "metadata": {},
   "outputs": [
    {
     "data": {
      "text/plain": [
       "[]"
      ]
     },
     "execution_count": 29,
     "metadata": {},
     "output_type": "execute_result"
    }
   ],
   "source": [
    "err"
   ]
  },
  {
   "cell_type": "code",
   "execution_count": 26,
   "metadata": {},
   "outputs": [],
   "source": [
    "df.drop(err, inplace=True)\n",
    "df.to_csv(\"../data/data_ai/nyt_articles/nyt-articles_Meta-Llama-3.1-70B-Instruct-AWQ-INT4.csv\", index=False)"
   ]
  },
  {
   "cell_type": "code",
   "execution_count": null,
   "metadata": {},
   "outputs": [],
   "source": []
  },
  {
   "cell_type": "code",
   "execution_count": 8,
   "metadata": {},
   "outputs": [
    {
     "data": {
      "text/html": [
       "<div>\n",
       "<style scoped>\n",
       "    .dataframe tbody tr th:only-of-type {\n",
       "        vertical-align: middle;\n",
       "    }\n",
       "\n",
       "    .dataframe tbody tr th {\n",
       "        vertical-align: top;\n",
       "    }\n",
       "\n",
       "    .dataframe thead th {\n",
       "        text-align: right;\n",
       "    }\n",
       "</style>\n",
       "<table border=\"1\" class=\"dataframe\">\n",
       "  <thead>\n",
       "    <tr style=\"text-align: right;\">\n",
       "      <th></th>\n",
       "      <th>data</th>\n",
       "      <th>model</th>\n",
       "      <th>num_samples</th>\n",
       "      <th>num_sentences</th>\n",
       "      <th>num_words</th>\n",
       "      <th>num_chars</th>\n",
       "      <th>num_tokens</th>\n",
       "    </tr>\n",
       "  </thead>\n",
       "  <tbody>\n",
       "    <tr>\n",
       "      <th>0</th>\n",
       "      <td>blogs</td>\n",
       "      <td>Phi-3-small-128k-instruct</td>\n",
       "      <td>28836</td>\n",
       "      <td>677403</td>\n",
       "      <td>4577975</td>\n",
       "      <td>57362602</td>\n",
       "      <td>15187889</td>\n",
       "    </tr>\n",
       "    <tr>\n",
       "      <th>1</th>\n",
       "      <td>blogs</td>\n",
       "      <td>Llama-3.2-3B-Instruct</td>\n",
       "      <td>28836</td>\n",
       "      <td>447683</td>\n",
       "      <td>875182</td>\n",
       "      <td>42284112</td>\n",
       "      <td>10675655</td>\n",
       "    </tr>\n",
       "    <tr>\n",
       "      <th>2</th>\n",
       "      <td>blogs</td>\n",
       "      <td>Qwen2.5-14B-Instruct</td>\n",
       "      <td>28836</td>\n",
       "      <td>330384</td>\n",
       "      <td>501842</td>\n",
       "      <td>24062475</td>\n",
       "      <td>6315173</td>\n",
       "    </tr>\n",
       "    <tr>\n",
       "      <th>3</th>\n",
       "      <td>blogs</td>\n",
       "      <td>Ministral-8B-Instruct-2410</td>\n",
       "      <td>28836</td>\n",
       "      <td>742094</td>\n",
       "      <td>1352648</td>\n",
       "      <td>42635432</td>\n",
       "      <td>12117456</td>\n",
       "    </tr>\n",
       "    <tr>\n",
       "      <th>4</th>\n",
       "      <td>blogs</td>\n",
       "      <td>Qwen2.5-3B-Instruct</td>\n",
       "      <td>28836</td>\n",
       "      <td>486262</td>\n",
       "      <td>1051199</td>\n",
       "      <td>31826561</td>\n",
       "      <td>9011862</td>\n",
       "    </tr>\n",
       "    <tr>\n",
       "      <th>...</th>\n",
       "      <td>...</td>\n",
       "      <td>...</td>\n",
       "      <td>...</td>\n",
       "      <td>...</td>\n",
       "      <td>...</td>\n",
       "      <td>...</td>\n",
       "      <td>...</td>\n",
       "    </tr>\n",
       "    <tr>\n",
       "      <th>59</th>\n",
       "      <td>reddit</td>\n",
       "      <td>human</td>\n",
       "      <td>655485</td>\n",
       "      <td>1817602</td>\n",
       "      <td>11207395</td>\n",
       "      <td>117002414</td>\n",
       "      <td>32581910</td>\n",
       "    </tr>\n",
       "    <tr>\n",
       "      <th>60</th>\n",
       "      <td>nyt-comments</td>\n",
       "      <td>human</td>\n",
       "      <td>4223213</td>\n",
       "      <td>18713269</td>\n",
       "      <td>75762131</td>\n",
       "      <td>1418281599</td>\n",
       "      <td>367129360</td>\n",
       "    </tr>\n",
       "    <tr>\n",
       "      <th>61</th>\n",
       "      <td>blogs</td>\n",
       "      <td>human</td>\n",
       "      <td>576774</td>\n",
       "      <td>8370715</td>\n",
       "      <td>11971512</td>\n",
       "      <td>560257945</td>\n",
       "      <td>165283569</td>\n",
       "    </tr>\n",
       "    <tr>\n",
       "      <th>62</th>\n",
       "      <td>nyt-articles</td>\n",
       "      <td>human</td>\n",
       "      <td>15813</td>\n",
       "      <td>21318</td>\n",
       "      <td>316981</td>\n",
       "      <td>1759817</td>\n",
       "      <td>421260</td>\n",
       "    </tr>\n",
       "    <tr>\n",
       "      <th>63</th>\n",
       "      <td>essays</td>\n",
       "      <td>human</td>\n",
       "      <td>2638</td>\n",
       "      <td>123010</td>\n",
       "      <td>67709</td>\n",
       "      <td>6702708</td>\n",
       "      <td>1910971</td>\n",
       "    </tr>\n",
       "  </tbody>\n",
       "</table>\n",
       "<p>64 rows × 7 columns</p>\n",
       "</div>"
      ],
      "text/plain": [
       "            data                       model  num_samples  num_sentences  \\\n",
       "0          blogs   Phi-3-small-128k-instruct        28836         677403   \n",
       "1          blogs       Llama-3.2-3B-Instruct        28836         447683   \n",
       "2          blogs        Qwen2.5-14B-Instruct        28836         330384   \n",
       "3          blogs  Ministral-8B-Instruct-2410        28836         742094   \n",
       "4          blogs         Qwen2.5-3B-Instruct        28836         486262   \n",
       "..           ...                         ...          ...            ...   \n",
       "59        reddit                       human       655485        1817602   \n",
       "60  nyt-comments                       human      4223213       18713269   \n",
       "61         blogs                       human       576774        8370715   \n",
       "62  nyt-articles                       human        15813          21318   \n",
       "63        essays                       human         2638         123010   \n",
       "\n",
       "    num_words   num_chars  num_tokens  \n",
       "0     4577975    57362602    15187889  \n",
       "1      875182    42284112    10675655  \n",
       "2      501842    24062475     6315173  \n",
       "3     1352648    42635432    12117456  \n",
       "4     1051199    31826561     9011862  \n",
       "..        ...         ...         ...  \n",
       "59   11207395   117002414    32581910  \n",
       "60   75762131  1418281599   367129360  \n",
       "61   11971512   560257945   165283569  \n",
       "62     316981     1759817      421260  \n",
       "63      67709     6702708     1910971  \n",
       "\n",
       "[64 rows x 7 columns]"
      ]
     },
     "execution_count": 8,
     "metadata": {},
     "output_type": "execute_result"
    }
   ],
   "source": [
    "df = pd.read_csv(MASTER_STATS_PATH)\n",
    "df"
   ]
  },
  {
   "cell_type": "code",
   "execution_count": null,
   "metadata": {},
   "outputs": [],
   "source": []
  },
  {
   "cell_type": "code",
   "execution_count": null,
   "metadata": {},
   "outputs": [],
   "source": []
  }
 ],
 "metadata": {
  "kernelspec": {
   "display_name": "base",
   "language": "python",
   "name": "python3"
  },
  "language_info": {
   "codemirror_mode": {
    "name": "ipython",
    "version": 3
   },
   "file_extension": ".py",
   "mimetype": "text/x-python",
   "name": "python",
   "nbconvert_exporter": "python",
   "pygments_lexer": "ipython3",
   "version": "3.12.3"
  }
 },
 "nbformat": 4,
 "nbformat_minor": 2
}
