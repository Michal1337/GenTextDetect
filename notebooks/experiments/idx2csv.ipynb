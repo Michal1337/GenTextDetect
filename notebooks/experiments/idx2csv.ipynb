{
 "cells": [
  {
   "cell_type": "code",
   "execution_count": 1,
   "metadata": {},
   "outputs": [],
   "source": [
    "import csv\n",
    "import pandas as pd\n",
    "from tqdm import tqdm"
   ]
  },
  {
   "cell_type": "code",
   "execution_count": 2,
   "metadata": {},
   "outputs": [
    {
     "data": {
      "text/html": [
       "<div>\n",
       "<style scoped>\n",
       "    .dataframe tbody tr th:only-of-type {\n",
       "        vertical-align: middle;\n",
       "    }\n",
       "\n",
       "    .dataframe tbody tr th {\n",
       "        vertical-align: top;\n",
       "    }\n",
       "\n",
       "    .dataframe thead th {\n",
       "        text-align: right;\n",
       "    }\n",
       "</style>\n",
       "<table border=\"1\" class=\"dataframe\">\n",
       "  <thead>\n",
       "    <tr style=\"text-align: right;\">\n",
       "      <th></th>\n",
       "      <th>index</th>\n",
       "      <th>num_sentences</th>\n",
       "      <th>num_words</th>\n",
       "      <th>num_chars</th>\n",
       "      <th>num_tokens</th>\n",
       "      <th>data</th>\n",
       "      <th>model</th>\n",
       "    </tr>\n",
       "  </thead>\n",
       "  <tbody>\n",
       "    <tr>\n",
       "      <th>0</th>\n",
       "      <td>12405</td>\n",
       "      <td>1</td>\n",
       "      <td>25</td>\n",
       "      <td>148</td>\n",
       "      <td>33</td>\n",
       "      <td>nyt-articles</td>\n",
       "      <td>human</td>\n",
       "    </tr>\n",
       "    <tr>\n",
       "      <th>1</th>\n",
       "      <td>9939</td>\n",
       "      <td>1</td>\n",
       "      <td>20</td>\n",
       "      <td>99</td>\n",
       "      <td>22</td>\n",
       "      <td>nyt-articles</td>\n",
       "      <td>human</td>\n",
       "    </tr>\n",
       "    <tr>\n",
       "      <th>2</th>\n",
       "      <td>614</td>\n",
       "      <td>1</td>\n",
       "      <td>24</td>\n",
       "      <td>110</td>\n",
       "      <td>28</td>\n",
       "      <td>nyt-articles</td>\n",
       "      <td>human</td>\n",
       "    </tr>\n",
       "    <tr>\n",
       "      <th>3</th>\n",
       "      <td>4779</td>\n",
       "      <td>1</td>\n",
       "      <td>16</td>\n",
       "      <td>77</td>\n",
       "      <td>17</td>\n",
       "      <td>nyt-articles</td>\n",
       "      <td>human</td>\n",
       "    </tr>\n",
       "    <tr>\n",
       "      <th>4</th>\n",
       "      <td>7198</td>\n",
       "      <td>1</td>\n",
       "      <td>32</td>\n",
       "      <td>163</td>\n",
       "      <td>41</td>\n",
       "      <td>nyt-articles</td>\n",
       "      <td>human</td>\n",
       "    </tr>\n",
       "  </tbody>\n",
       "</table>\n",
       "</div>"
      ],
      "text/plain": [
       "   index  num_sentences  num_words  num_chars  num_tokens          data  model\n",
       "0  12405              1         25        148          33  nyt-articles  human\n",
       "1   9939              1         20         99          22  nyt-articles  human\n",
       "2    614              1         24        110          28  nyt-articles  human\n",
       "3   4779              1         16         77          17  nyt-articles  human\n",
       "4   7198              1         32        163          41  nyt-articles  human"
      ]
     },
     "execution_count": 2,
     "metadata": {},
     "output_type": "execute_result"
    }
   ],
   "source": [
    "df = pd.read_csv(\"../data/datasets/test2_idx.csv\")\n",
    "df.head()"
   ]
  },
  {
   "cell_type": "code",
   "execution_count": 3,
   "metadata": {},
   "outputs": [],
   "source": [
    "save_path = \"../data/datasets/test2.csv\""
   ]
  },
  {
   "cell_type": "code",
   "execution_count": 5,
   "metadata": {},
   "outputs": [
    {
     "name": "stderr",
     "output_type": "stream",
     "text": [
      "100%|██████████| 3/3 [00:46<00:00, 15.39s/it]\n"
     ]
    }
   ],
   "source": [
    "# init csv at save_path with text and label columns\n",
    "with open(save_path, mode=\"w\", newline=\"\", encoding=\"utf-8\") as file:\n",
    "    writer = csv.writer(file)\n",
    "    writer.writerow([\"text\", \"label\"])\n",
    "\n",
    "# iterate through every data and model combination\n",
    "for data in tqdm(df[\"data\"].unique()):\n",
    "    for model in df[\"model\"].unique():\n",
    "        if model == \"human\":\n",
    "            path = f\"../data/data_human/{data}_human.csv\"\n",
    "        else:\n",
    "            path = f\"../data/data_ai/{data.replace(\"-\", \"_\")}/{data}_{model}.csv\"\n",
    "\n",
    "        subset = df[(df[\"data\"] == data) & (df[\"model\"] == model)]\n",
    "        df_data = pd.read_csv(path)\n",
    "\n",
    "        # select rowns from df_data based on index col in subset\n",
    "        idx = subset[\"index\"].tolist()\n",
    "        df_subset = df_data.iloc[idx]\n",
    "\n",
    "        label = 0 if model == \"human\" else 1\n",
    "\n",
    "        # save df_subset to csv at save_path\n",
    "        with open(save_path, mode=\"a\", newline=\"\", encoding=\"utf-8\") as file:\n",
    "            writer = csv.writer(file)\n",
    "            for i in range(len(df_subset)):\n",
    "                text = df_subset.iloc[i][\"text\"]\n",
    "                writer.writerow([text, label])"
   ]
  },
  {
   "cell_type": "code",
   "execution_count": null,
   "metadata": {},
   "outputs": [],
   "source": [
    "def idx2csv(df, save_path, cols_c0):\n",
    "    # init csv\n",
    "    with open(save_path, mode=\"w\", newline=\"\", encoding=\"utf-8\") as file:\n",
    "        writer = csv.writer(file)\n",
    "        writer.writerow([\"text\", \"label\"])\n",
    "\n",
    "    # iterate through every data and model combination\n",
    "    for data in tqdm(df[\"data\"].unique()):\n",
    "        for model in df[\"model\"].unique():\n",
    "            if model == \"human\":\n",
    "                path = f\"../data/data_human/{data}_human.csv\"\n",
    "            else:\n",
    "                path = f\"../data/data_ai/{data.replace('-', '_')}/{data}_{model}.csv\"\n",
    "\n",
    "            subset = df[(df[\"data\"] == data) & (df[\"model\"] == model)]\n",
    "            df_data = pd.read_csv(path)\n",
    "\n",
    "            idx = subset[\"index\"].tolist()\n",
    "            df_subset = df_data.iloc[idx]\n",
    "\n",
    "            label = 0 if model in cols_c0 else 1\n",
    "\n",
    "            # save df_subset to csv at save_path\n",
    "            with open(save_path, mode=\"a\", newline=\"\", encoding=\"utf-8\") as file:\n",
    "                writer = csv.writer(file)\n",
    "                for i in range(len(df_subset)):\n",
    "                    text = df_subset.iloc[i][\"text\"]\n",
    "                    writer.writerow([text, label])"
   ]
  },
  {
   "cell_type": "code",
   "execution_count": null,
   "metadata": {},
   "outputs": [],
   "source": []
  },
  {
   "cell_type": "code",
   "execution_count": null,
   "metadata": {},
   "outputs": [],
   "source": []
  }
 ],
 "metadata": {
  "kernelspec": {
   "display_name": "base",
   "language": "python",
   "name": "python3"
  },
  "language_info": {
   "codemirror_mode": {
    "name": "ipython",
    "version": 3
   },
   "file_extension": ".py",
   "mimetype": "text/x-python",
   "name": "python",
   "nbconvert_exporter": "python",
   "pygments_lexer": "ipython3",
   "version": "3.12.3"
  }
 },
 "nbformat": 4,
 "nbformat_minor": 2
}
