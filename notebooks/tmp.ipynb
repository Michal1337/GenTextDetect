{
 "cells": [
  {
   "cell_type": "code",
   "execution_count": 1,
   "metadata": {},
   "outputs": [],
   "source": [
    "from typing import List, Tuple, Optional\n",
    "from transformers import AutoTokenizer"
   ]
  },
  {
   "cell_type": "code",
   "execution_count": 2,
   "metadata": {},
   "outputs": [],
   "source": [
    "MODEL_PATH = \"\"\n",
    "LLMS: List[Tuple[str, str, Optional[str]]] = [\n",
    "    # Meta\n",
    "    (\"meta-llama/Llama-3.1-8B-Instruct\", MODEL_PATH + \"meta-llama/Llama-3.1-8B-Instruct\", None),\n",
    "    (\"hugging-quants/Meta-Llama-3.1-70B-Instruct-AWQ-INT4\", MODEL_PATH + \"hugging-quants/Meta-Llama-3.1-70B-Instruct-AWQ-INT4\", \"awq\"),\n",
    "    (\"meta-llama/Llama-3.2-3B-Instruct\", MODEL_PATH + \"meta-llama/Llama-3.2-3B-Instruct\", None),\n",
    "    (\"ibnzterrell/Meta-Llama-3.3-70B-Instruct-AWQ-INT4\", MODEL_PATH + \"ibnzterrell/Meta-Llama-3.3-70B-Instruct-AWQ-INT4\", \"awq\"),\n",
    "    \n",
    "    # Microsoft\n",
    "    (\"microsoft/Phi-3-mini-128k-instruct\", MODEL_PATH + \"microsoft/Phi-3-mini-128k-instruct\", None),\n",
    "    (\"microsoft/Phi-3-small-128k-instruct\", MODEL_PATH + \"microsoft/Phi-3-small-128k-instruct\", None),\n",
    "    (\"microsoft/Phi-3-medium-128k-instruct\", MODEL_PATH + \"microsoft/Phi-3-medium-128k-instruct\", None),\n",
    "    (\"microsoft/Phi-3.5-mini-instruct\", MODEL_PATH + \"microsoft/Phi-3.5-mini-instruct\", None),\n",
    "    (\"microsoft/Phi-4-mini-instruct\", MODEL_PATH + \"microsoft/Phi-4-mini-instruct\", None),\n",
    "    (\"microsoft/phi-4\", MODEL_PATH + \"microsoft/phi-4\", None),\n",
    "    \n",
    "    # Mistral\n",
    "    (\"mistralai/Mistral-Nemo-Instruct-2407\", MODEL_PATH + \"mistralai/Mistral-Nemo-Instruct-2407\", None),\n",
    "    (\"mistralai/Ministral-8B-Instruct-2410\", MODEL_PATH + \"mistralai/Ministral-8B-Instruct-2410\", None),\n",
    "    \n",
    "    # Qwen\n",
    "    (\"Qwen/Qwen2-72B-Instruct-AWQ\", MODEL_PATH + \"Qwen/Qwen2-72B-Instruct-AWQ\", \"awq\"),\n",
    "    (\"Qwen/Qwen2-7B-Instruct\", MODEL_PATH + \"Qwen/Qwen2-7B-Instruct\", None),\n",
    "    (\"Qwen/Qwen2.5-72B-Instruct-AWQ\", MODEL_PATH + \"Qwen/Qwen2.5-72B-Instruct-AWQ\", \"awq\"),\n",
    "    (\"Qwen/Qwen2.5-14B-Instruct\", MODEL_PATH + \"Qwen/Qwen2.5-14B-Instruct\", None),\n",
    "    (\"Qwen/Qwen2.5-7B-Instruct\", MODEL_PATH + \"Qwen/Qwen2.5-7B-Instruct\", None),\n",
    "    (\"Qwen/Qwen2.5-3B-Instruct\", MODEL_PATH + \"Qwen/Qwen2.5-3B-Instruct\", None),\n",
    "    \n",
    "    # Falcon\n",
    "    (\"tiiuae/Falcon3-7B-Instruct\", MODEL_PATH + \"tiiuae/Falcon3-7B-Instruct\", None),\n",
    "    (\"tiiuae/Falcon3-3B-Instruct\", MODEL_PATH + \"tiiuae/Falcon3-3B-Instruct\", None),\n",
    "]"
   ]
  },
  {
   "cell_type": "code",
   "execution_count": 5,
   "metadata": {},
   "outputs": [],
   "source": [
    "pad_tokens = {\n",
    "    \"Llama-3.1-8B-Instruct\": \"<|finetune_right_pad_id|>\",\n",
    "    \"Meta-Llama-3.1-70B-Instruct-AWQ-INT4\": \"<|finetune_right_pad_id|>\",\n",
    "    \"Llama-3.2-3B-Instruct\": \"<|finetune_right_pad_id|>\",\n",
    "    \"Mistral-Nemo-Instruct-2407\": \"<pad>\",\n",
    "    \"Ministral-8B-Instruct-2410\": \"<pad>\",\n",
    "}"
   ]
  },
  {
   "cell_type": "code",
   "execution_count": 6,
   "metadata": {},
   "outputs": [
    {
     "name": "stdout",
     "output_type": "stream",
     "text": [
      "meta-llama/Llama-3.1-8B-Instruct\n",
      "<|finetune_right_pad_id|> 128004\n",
      "hugging-quants/Meta-Llama-3.1-70B-Instruct-AWQ-INT4\n",
      "<|finetune_right_pad_id|> 128004\n",
      "meta-llama/Llama-3.2-3B-Instruct\n",
      "<|finetune_right_pad_id|> 128004\n",
      "ibnzterrell/Meta-Llama-3.3-70B-Instruct-AWQ-INT4\n",
      "<|finetune_right_pad_id|> 128004\n",
      "microsoft/Phi-3-mini-128k-instruct\n",
      "<|endoftext|> 32000\n",
      "microsoft/Phi-3-small-128k-instruct\n",
      "<|endoftext|> 100257\n",
      "microsoft/Phi-3-medium-128k-instruct\n",
      "<|endoftext|> 32000\n",
      "microsoft/Phi-3.5-mini-instruct\n",
      "<|endoftext|> 32000\n",
      "microsoft/Phi-4-mini-instruct\n",
      "<|endoftext|> 199999\n",
      "microsoft/phi-4\n",
      "<|dummy_85|> 100349\n",
      "mistralai/Mistral-Nemo-Instruct-2407\n",
      "<pad> 10\n",
      "mistralai/Ministral-8B-Instruct-2410\n",
      "<pad> 11\n",
      "Qwen/Qwen2-72B-Instruct-AWQ\n",
      "<|endoftext|> 151643\n",
      "Qwen/Qwen2-7B-Instruct\n",
      "<|endoftext|> 151643\n",
      "Qwen/Qwen2.5-72B-Instruct-AWQ\n",
      "<|endoftext|> 151643\n",
      "Qwen/Qwen2.5-14B-Instruct\n",
      "<|endoftext|> 151643\n",
      "Qwen/Qwen2.5-7B-Instruct\n",
      "<|endoftext|> 151643\n",
      "Qwen/Qwen2.5-3B-Instruct\n",
      "<|endoftext|> 151643\n",
      "tiiuae/Falcon3-7B-Instruct\n",
      "<|pad|> 2023\n",
      "tiiuae/Falcon3-3B-Instruct\n",
      "<|pad|> 2023\n"
     ]
    }
   ],
   "source": [
    "for model, path, quant in  LLMS:\n",
    "    print(model)\n",
    "    tokenizer = AutoTokenizer.from_pretrained(path)\n",
    "    model_name = model.split(\"/\")[-1]\n",
    "    if model_name in pad_tokens.keys():\n",
    "        tokenizer.pad_token = pad_tokens[model_name]\n",
    "    print(tokenizer.pad_token, tokenizer.pad_token_id)"
   ]
  },
  {
   "cell_type": "code",
   "execution_count": null,
   "metadata": {},
   "outputs": [],
   "source": []
  },
  {
   "cell_type": "code",
   "execution_count": null,
   "metadata": {},
   "outputs": [],
   "source": []
  },
  {
   "cell_type": "code",
   "execution_count": null,
   "metadata": {},
   "outputs": [],
   "source": []
  },
  {
   "cell_type": "code",
   "execution_count": null,
   "metadata": {},
   "outputs": [],
   "source": []
  }
 ],
 "metadata": {
  "kernelspec": {
   "display_name": "base",
   "language": "python",
   "name": "python3"
  },
  "language_info": {
   "codemirror_mode": {
    "name": "ipython",
    "version": 3
   },
   "file_extension": ".py",
   "mimetype": "text/x-python",
   "name": "python",
   "nbconvert_exporter": "python",
   "pygments_lexer": "ipython3",
   "version": "3.12.3"
  }
 },
 "nbformat": 4,
 "nbformat_minor": 2
}
