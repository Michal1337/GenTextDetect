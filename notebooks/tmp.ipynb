{
 "cells": [
  {
   "cell_type": "code",
   "execution_count": 7,
   "metadata": {},
   "outputs": [],
   "source": [
    "import json\n",
    "\n",
    "first_five = []\n",
    "with open(\"../data/t1.jsonl\", \"r\", encoding=\"utf-8\") as file:\n",
    "    for _ in range(10):\n",
    "        line = file.readline()\n",
    "        if not line:  # Stop if there are fewer than 5 lines\n",
    "            break\n",
    "        first_five.append(json.loads(line))"
   ]
  },
  {
   "cell_type": "code",
   "execution_count": 8,
   "metadata": {},
   "outputs": [],
   "source": [
    "from pprint import pprint"
   ]
  },
  {
   "cell_type": "code",
   "execution_count": 44,
   "metadata": {},
   "outputs": [],
   "source": [
    "tmp = first_five[0]"
   ]
  },
  {
   "cell_type": "code",
   "execution_count": 45,
   "metadata": {},
   "outputs": [
    {
     "data": {
      "text/plain": [
       "dict_keys(['annotations', 'document_html', 'document_title', 'document_tokens', 'document_url', 'example_id', 'long_answer_candidates', 'question_text', 'question_tokens'])"
      ]
     },
     "execution_count": 45,
     "metadata": {},
     "output_type": "execute_result"
    }
   ],
   "source": [
    "tmp.keys()"
   ]
  },
  {
   "cell_type": "code",
   "execution_count": 46,
   "metadata": {},
   "outputs": [
    {
     "data": {
      "text/plain": [
       "'what do the 3 dots mean in math'"
      ]
     },
     "execution_count": 46,
     "metadata": {},
     "output_type": "execute_result"
    }
   ],
   "source": [
    "tmp[\"question_text\"]"
   ]
  },
  {
   "cell_type": "code",
   "execution_count": 62,
   "metadata": {},
   "outputs": [
    {
     "data": {
      "text/plain": [
       "\"Therefore sign - wikipedia Therefore sign Jump to : navigation , search ∴ Therefore sign Punctuation apostrophe ' ' brackets ( ) ( ) ( ) ⟨ ⟩ colon : comma , ، 、 dash ‒ -- -- ― ellipsis ... ... ⋯ ᠁ ฯ exclamation mark ! full stop , period . guillemets `` '' `` '' hyphen ‐ hyphen - minus - question mark ? quotation marks ' ' `` '' ' ' `` '' semicolon ; slash , stroke , solidus / ⁄ Word dividers interpunct space General typography ampersand & asterisk * at sign @ backslash \\\\ bullet caret dagger † ‡ degree ° ditto mark '' inverted exclamation mark ¡ inverted question mark ¿ komejirushi , kome , reference mark ※ number sign , pound , hash # numero sign No obelus ÷ multiplication sign × ordinal indicator o a percent , per mil % ‰ plus and minus + − equals sign = basis point ‱ pilcrow ¶ prime ′ '' ′′′ section sign § tilde ~ underscore , understrike _ vertical bar , pipe , broken bar ‖ ¦ Intellectual property copyright © sound - recording copyright ℗ registered trademark ® service mark SM trademark TM Currency currency sign ¤ currency symbols ؋ \\u200b ₳ \\u200b ฿ \\u200b ₿ \\u200b ₵ \\u200b ¢ \\u200b ₡ \\u200b ₢ \\u200b $ \\u200b ₫ \\u200b ₯ \\u200b ֏ \\u200b ₠ \\u200b € \\u200b ƒ \\u200b ₣ \\u200b ₲ \\u200b ₴ \\u200b ₭ \\u200b ₺ \\u200b ₾ \\u200b ₼ \\u200b M \\u200b ₥ \\u200b ₦ \\u200b ₧ \\u200b ₱ \\u200b ₰ \\u200b £ \\u200b 元 圆 圓 \\u200b ریال \\u200b ៛ \\u200b ₽ \\u200b ₹ Rs \\u200b ₪ \\u200b ৳ \\u200b ₸ \\u200b ₮ \\u200b ₩ \\u200b ¥ 円 Uncommon typography asterism ⁂ fleuron , hedera ❧ index , fist ☞ interrobang ‽ irony punctuation ⸮ lozenge ◊ tie ⁀ Related Diacritics Logic symbols Whitespace characters In other scripts Chinese Hebrew Japanese Korean Portal Book In logical argument and mathematical proof , the therefore sign ( ∴ ) is generally used before a logical consequence , such as the conclusion of a syllogism . The symbol consists of three dots placed in an upright triangle and is read therefore . It is encoded at U + 2234 ∴ therefore ( HTML & # 8756 ; &there4 ; ) . For common use in Microsoft Office hold the ALT key and type `` 8756 '' . While it is not generally used in formal writing , it is used in mathematics and shorthand . It is complementary to U + 2235 ∵ because ( HTML & # 8757 ; ) . Contents ( hide ) 1 History 2 Example of use 3 Related signs 4 See also 5 References History ( edit ) According to Cajori , A History of Mathematical Notations , Johann Rahn used both the therefore and because signs to mean `` therefore '' ; in the German edition of Teutsche Algebra ( 1659 ) the therefore sign was prevalent with the modern meaning , but in the 1668 English edition Rahn used the because sign more often to mean `` therefore '' . Other authors in the eighteenth century also used three dots in a triangle shape to signify `` therefore , '' but as with Rahn , there was n't much in the way of consistency as to how the triangle was oriented ; because with its current meaning appears to have originated in the nineteenth century . In this century , the three - dot notation for therefore became very rare in continental Europe , but it remains popular in the British Isles . Example of use ( edit ) Used in a syllogism : All gods are immortal . Zeus is a god . ∴ Zeus is immortal . x + 1 = 6 ∴ x = 5 Related signs ( edit ) A diploma from the Masonic Grande Loge de France showing the symbol as a substitute for the dot of abbreviation . The inverted form ∵ , known as the because sign , is sometimes used as a shorthand form of `` because '' . This is Unicode character U + 2235 . The therefore sign is sometimes used as a substitute for an asterism ⁂ . In meteorology , the therefore sign is used to indicate moderate rain on a station model ; the asterism indicates moderate snow . To denote logical implication or entailment , various signs are used in mathematical logic : → , ⇒ , ⊃ , ⊢ , ⊨ . These symbols are then part of a mathematical formula , and are not considered to be punctuation . In contrast , the therefore sign is traditionally used as a punctuation mark , and does not form part of a logical formula . The graphically identical sign ∴ serves as a Japanese map symbol on the maps of the Geographical Survey Institute of Japan , indicating a tea plantation . On other maps the sign , often with thicker dots , is sometimes used to signal the presence of a national monument or ruins . The character ஃ in the Tamil script represents the āytam , a special sound of the Tamil language . In Masonic traditions the symbol is used for abbreviation , instead of the usual period . For example `` R ∴ W ∴ John Smith '' is an abbreviation for `` Right Worshipful John Smith '' ( the term Right Worshipful is an archaic title just as `` Land Lord '' is and indicates that Brother Smith is a Grand Lodge officer ) . In Norwegian and Danish , a similar symbol is used as an explanatory symbol ( forklaringstegnet ) . It can be typeset using the open o followed by a colon , thus : ɔ : . It is used for the meaning `` namely '' , `` id est '' , `` scilicet '' or similar . See also ( edit ) Q.E.D. Mathematical jargon References ( edit ) Jump up ^ `` Cajori , vol. 1 , p. 211 '' . Archive.org . Retrieved 2013 - 10 - 05 . Jump up ^ Florian Cajori ( 2011 ) ( 1929 ) . A History of Mathematical Notations : Two Volumes in One . Cosimo , Inc . pp. 282 -- 283 . ISBN 978 - 1 - 61640 - 571 - 7 . Jump up ^ ( 1 ) Archived October 14 , 2008 , at the Wayback Machine . Jump up ^ Encyclopedia of Freemasonry Part 1 and Its Kindred Sciences Comprising the ... , Albert Gallatin Mackey , page 2 , reprint in 2002 , Kessinger Publishing , ISBN 0 - 7661 - 2650 - 1 . Jump up ^ http://www.typografi.org/forklaringstegn/forklaringstegn.html ( hide ) Common logical symbols ∧ or & and ∨ or ¬ or ~ not → implies ⊃ implies , superset ≡ iff nand ∀ universal quantification ∃ existential quantification ⊤ tautology ⊥ false , contradiction ⊢ entails , proves ⊨ entails , therefore ∴ therefore ∵ because Retrieved from `` https://en.wikipedia.org/w/index.php?title=Therefore_sign&oldid=815234923 '' Categories : Typographical symbols Punctuation Mathematical symbols Logic symbols Logical consequence Hidden categories : Webarchive template wayback links Talk Contents About Wikipedia Français 한국어 Nederlands 日本 語 Norsk Português Svenska Edit links This page was last edited on 13 December 2017 , at 16 : 22 . Text is available under the Creative Commons Attribution - ShareAlike License ; additional terms may apply . By using this site , you agree to the Terms of Use and Privacy Policy . Wikipedia ® is a registered trademark of the Wikimedia Foundation , Inc. , a non-profit organization . About Wikipedia\""
      ]
     },
     "execution_count": 62,
     "metadata": {},
     "output_type": "execute_result"
    }
   ],
   "source": [
    "\" \".join(item[\"token\"] for item in tmp[\"document_tokens\"] if not item[\"html_token\"])"
   ]
  },
  {
   "cell_type": "code",
   "execution_count": 48,
   "metadata": {},
   "outputs": [
    {
     "data": {
      "text/plain": [
       "{'end_byte': 66428,\n",
       " 'end_token': 808,\n",
       " 'start_byte': 41427,\n",
       " 'start_token': 14,\n",
       " 'top_level': True}"
      ]
     },
     "execution_count": 48,
     "metadata": {},
     "output_type": "execute_result"
    }
   ],
   "source": [
    "tmp[\"long_answer_candidates\"][0]"
   ]
  },
  {
   "cell_type": "code",
   "execution_count": 56,
   "metadata": {},
   "outputs": [
    {
     "data": {
      "text/plain": [
       "\"In logical argument and mathematical proof , the therefore sign ( ∴ ) is generally used before a logical consequence , such as the conclusion of a syllogism . The symbol consists of three dots placed in an upright triangle and is read therefore . It is encoded at U + 2234 ∴ therefore ( HTML & # 8756 ; &there4 ; ) . For common use in Microsoft Office hold the ALT key and type `` 8756 '' . While it is not generally used in formal writing , it is used in mathematics and shorthand . It is complementary to U + 2235 ∵ because ( HTML & # 8757 ; ) .\""
      ]
     },
     "execution_count": 56,
     "metadata": {},
     "output_type": "execute_result"
    }
   ],
   "source": [
    "\" \".join(item[\"token\"] for item in tmp[\"document_tokens\"][808:925] if not item[\"html_token\"])"
   ]
  },
  {
   "cell_type": "code",
   "execution_count": 57,
   "metadata": {},
   "outputs": [
    {
     "data": {
      "text/plain": [
       "\"<P> In logical argument and mathematical proof , the therefore sign ( ∴ ) is generally used before a logical consequence , such as the conclusion of a syllogism . The symbol consists of three dots placed in an upright triangle and is read therefore . It is encoded at U + 2234 ∴ therefore ( HTML & # 8756 ; &there4 ; ) . For common use in Microsoft Office hold the ALT key and type `` 8756 '' . While it is not generally used in formal writing , it is used in mathematics and shorthand . It is complementary to U + 2235 ∵ because ( HTML & # 8757 ; ) . </P>\""
      ]
     },
     "execution_count": 57,
     "metadata": {},
     "output_type": "execute_result"
    }
   ],
   "source": [
    "\" \".join(item[\"token\"] for item in tmp[\"document_tokens\"][808:925])"
   ]
  },
  {
   "cell_type": "code",
   "execution_count": null,
   "metadata": {},
   "outputs": [],
   "source": []
  },
  {
   "cell_type": "code",
   "execution_count": 61,
   "metadata": {},
   "outputs": [
    {
     "data": {
      "text/plain": [
       "{'annotation_id': 13591449469826568799,\n",
       " 'long_answer': {'candidate_index': 92,\n",
       "  'end_byte': 67824,\n",
       "  'end_token': 925,\n",
       "  'start_byte': 66429,\n",
       "  'start_token': 808},\n",
       " 'short_answers': [{'end_byte': 66817,\n",
       "   'end_token': 837,\n",
       "   'start_byte': 66588,\n",
       "   'start_token': 816}],\n",
       " 'yes_no_answer': 'NONE'}"
      ]
     },
     "execution_count": 61,
     "metadata": {},
     "output_type": "execute_result"
    }
   ],
   "source": [
    "tmp[\"annotations\"][0]"
   ]
  },
  {
   "cell_type": "code",
   "execution_count": null,
   "metadata": {},
   "outputs": [],
   "source": []
  },
  {
   "cell_type": "code",
   "execution_count": null,
   "metadata": {},
   "outputs": [],
   "source": []
  }
 ],
 "metadata": {
  "kernelspec": {
   "display_name": "base",
   "language": "python",
   "name": "python3"
  },
  "language_info": {
   "codemirror_mode": {
    "name": "ipython",
    "version": 3
   },
   "file_extension": ".py",
   "mimetype": "text/x-python",
   "name": "python",
   "nbconvert_exporter": "python",
   "pygments_lexer": "ipython3",
   "version": "3.12.3"
  }
 },
 "nbformat": 4,
 "nbformat_minor": 2
}
